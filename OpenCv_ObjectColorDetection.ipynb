{
  "nbformat": 4,
  "nbformat_minor": 0,
  "metadata": {
    "colab": {
      "provenance": [],
      "authorship_tag": "ABX9TyMQc07iqWsQFkOcmmpAWiEl",
      "include_colab_link": true
    },
    "kernelspec": {
      "name": "python3",
      "display_name": "Python 3"
    },
    "language_info": {
      "name": "python"
    }
  },
  "cells": [
    {
      "cell_type": "markdown",
      "metadata": {
        "id": "view-in-github",
        "colab_type": "text"
      },
      "source": [
        "<a href=\"https://colab.research.google.com/github/Eakansh249120/OpenCv_ObjectColorDetection1/blob/main/OpenCv_ObjectColorDetection.ipynb\" target=\"_parent\"><img src=\"https://colab.research.google.com/assets/colab-badge.svg\" alt=\"Open In Colab\"/></a>"
      ]
    },
    {
      "cell_type": "code",
      "execution_count": null,
      "metadata": {
        "id": "7WwOZMJRFCxf"
      },
      "outputs": [],
      "source": [
        "import cv2 as cv\n",
        "import numpy as np\n",
        "\n",
        "img1=cv.imread('images/balls.jpeg')\n",
        "#cv.imshow(\"balls\",img1)\n",
        "\n",
        "cv.waitKey(0)\n",
        "cv.destroyAllWindows()\n",
        "\n",
        "#creating trackbars\n",
        "def empty(x):#this will be working when our functions wont be doing anything\n",
        "\n",
        "    pass\n",
        "\n",
        "cv.namedWindow('color adjustment')\n",
        "cv.createTrackbar('lower_h','color adjustment',0,255,empty)# it gives you the required color\n",
        "cv.createTrackbar('lower_s','color adjustment',0,255,empty)# it gives you required shade\n",
        "cv.createTrackbar('lower_v','color adjustment',0,255,empty)#it gives you required birghtness\n",
        "\n",
        "cv.createTrackbar('upper_h','color adjustment',255,255,empty)# it gives you the required color\n",
        "cv.createTrackbar('upper_s','color adjustment',255,255,empty)# it gives you required shade\n",
        "cv.createTrackbar('upper_v','color adjustment',255,255,empty)#it gives you required birghtness\n",
        "#here in upper trackbars we put 255,255 because 255 first will give us the range and 2nd 255 will make the default trackbar pos at 255\n",
        "\n",
        "\n",
        "\n",
        "while True:\n",
        "    hsv=cv.cvtColor(img1,cv.COLOR_BGR2HSV )#it converts the original colour image to hsv colours\n",
        "    l_h=cv.getTrackbarPos('lower_h','color adjustment')\n",
        "    l_s=cv.getTrackbarPos('lower_s','color adjustment')\n",
        "    l_v=cv.getTrackbarPos('lower_v','color adjustment')\n",
        "    u_h=cv.getTrackbarPos('upper_h','color adjustment')\n",
        "    u_s=cv.getTrackbarPos('upper_s','color adjustment')\n",
        "    u_v=cv.getTrackbarPos('upper_v','color adjustment')\n",
        "\n",
        "    lower_bound=np.array([l_h,l_s,l_v])\n",
        "    upper_bound=np.array([u_h,u_s,u_v])\n",
        "\n",
        "    mask=cv.inRange(hsv,lower_bound,upper_bound)\n",
        "    result=cv.bitwise_and(img1,img1,mask=mask)\n",
        "    cv.imshow('image',img1)\n",
        "    cv.imshow('mask',mask)\n",
        "    cv.imshow('result',result)\n",
        "    k=cv.waitKey(25)\n",
        "    if k==ord('s'):\n",
        "        break\n",
        "cv.waitKey(0)\n",
        "cv.destroyAllWindows()\n",
        "\n",
        "\n",
        "\n",
        "\n",
        "\n",
        "\n",
        "\n",
        "\n",
        "\n",
        "\n",
        "\n",
        "\n"
      ]
    }
  ]
}